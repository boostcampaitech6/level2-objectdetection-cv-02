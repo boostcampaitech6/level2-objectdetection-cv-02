{
 "cells": [
  {
   "cell_type": "code",
   "execution_count": 1,
   "metadata": {},
   "outputs": [
    {
     "name": "stdout",
     "output_type": "stream",
     "text": [
      "loading annotations into memory...\n",
      "Done (t=0.09s)\n",
      "creating index...\n",
      "index created!\n"
     ]
    },
    {
     "data": {
      "text/html": [
       "<div>\n",
       "<style scoped>\n",
       "    .dataframe tbody tr th:only-of-type {\n",
       "        vertical-align: middle;\n",
       "    }\n",
       "\n",
       "    .dataframe tbody tr th {\n",
       "        vertical-align: top;\n",
       "    }\n",
       "\n",
       "    .dataframe thead th {\n",
       "        text-align: right;\n",
       "    }\n",
       "</style>\n",
       "<table border=\"1\" class=\"dataframe\">\n",
       "  <thead>\n",
       "    <tr style=\"text-align: right;\">\n",
       "      <th></th>\n",
       "      <th>image_id</th>\n",
       "      <th>image_name</th>\n",
       "      <th>class_name</th>\n",
       "      <th>class_id</th>\n",
       "      <th>x_min</th>\n",
       "      <th>y_min</th>\n",
       "      <th>x_max</th>\n",
       "      <th>y_max</th>\n",
       "    </tr>\n",
       "  </thead>\n",
       "  <tbody>\n",
       "    <tr>\n",
       "      <th>21429</th>\n",
       "      <td>4495</td>\n",
       "      <td>train/4485.jpg</td>\n",
       "      <td>General trash</td>\n",
       "      <td>0</td>\n",
       "      <td>308.0</td>\n",
       "      <td>151.0</td>\n",
       "      <td>415.0</td>\n",
       "      <td>292.0</td>\n",
       "    </tr>\n",
       "    <tr>\n",
       "      <th>321</th>\n",
       "      <td>65</td>\n",
       "      <td>train/0065.jpg</td>\n",
       "      <td>General trash</td>\n",
       "      <td>0</td>\n",
       "      <td>374.0</td>\n",
       "      <td>582.0</td>\n",
       "      <td>750.0</td>\n",
       "      <td>684.0</td>\n",
       "    </tr>\n",
       "    <tr>\n",
       "      <th>5614</th>\n",
       "      <td>1155</td>\n",
       "      <td>train/1155.jpg</td>\n",
       "      <td>General trash</td>\n",
       "      <td>0</td>\n",
       "      <td>494.0</td>\n",
       "      <td>38.0</td>\n",
       "      <td>745.0</td>\n",
       "      <td>99.0</td>\n",
       "    </tr>\n",
       "  </tbody>\n",
       "</table>\n",
       "</div>"
      ],
      "text/plain": [
       "       image_id      image_name     class_name  class_id  x_min  y_min  x_max  \\\n",
       "21429      4495  train/4485.jpg  General trash         0  308.0  151.0  415.0   \n",
       "321          65  train/0065.jpg  General trash         0  374.0  582.0  750.0   \n",
       "5614       1155  train/1155.jpg  General trash         0  494.0   38.0  745.0   \n",
       "\n",
       "       y_max  \n",
       "21429  292.0  \n",
       "321    684.0  \n",
       "5614    99.0  "
      ]
     },
     "metadata": {},
     "output_type": "display_data"
    },
    {
     "data": {
      "text/plain": [
       "(None, (23412, 8), (4206, 8))"
      ]
     },
     "execution_count": 1,
     "metadata": {},
     "output_type": "execute_result"
    }
   ],
   "source": [
    "from tools import *\n",
    "\n",
    "cfg = EasyDict(\n",
    "    target = 'General trash',\n",
    "    anno_path = '../../dataset/train.json',\n",
    "    output_path = './output/statistics.txt',\n",
    "    classes = [\"General trash\", \"Paper\", \"Paper pack\", \"Metal\", \"Glass\", \n",
    "            \"Plastic\", \"Styrofoam\", \"Plastic bag\", \"Battery\", \"Clothing\"],\n",
    "    hist_width = 1000,\n",
    "    hist_height = 400\n",
    ")\n",
    "df,dct = load(cfg)\n",
    "t_df = df[df.class_name == cfg.target]\n",
    "t_bbox_df = convert_to_bbox(t_df)\n",
    "sample(t_df, 3), df.shape, t_df.shape"
   ]
  },
  {
   "cell_type": "code",
   "execution_count": 10,
   "metadata": {},
   "outputs": [
    {
     "name": "stdout",
     "output_type": "stream",
     "text": [
      "General trash (1.45, 1.13, (0.3251, 3.9449))\n",
      "Paper (1.39, 1.18, (0.4489, 3.0976))\n",
      "Paper pack (1.3, 1.12, (0.504, 2.4901))\n",
      "Metal (1.23, 1.03, (0.3608, 2.94))\n",
      "Glass (1.04, 0.86, (0.2292, 3.2602))\n",
      "Plastic (1.3, 1.09, (0.3558, 3.3545))\n",
      "Styrofoam (1.48, 1.17, (0.4256, 3.2182))\n",
      "Plastic bag (1.11, 1.02, (0.3929, 2.6501))\n",
      "Battery (1.43, 1.2, (0.3017, 4.8061))\n",
      "Clothing (1.21, 1.07, (0.3555, 3.2019))\n"
     ]
    }
   ],
   "source": [
    "from scipy.stats import norm\n",
    "import numpy as np \n",
    "\n",
    "def ci_ratio(bbox_df, alpha=0.05):\n",
    "    row_mean = bbox_df.aspect_ratio.mean()\n",
    "    data = np.log(bbox_df.groupby('image_id').aspect_ratio.mean()) # 0 ~ oo -> -oo ~ oo\n",
    "    mu = data.mean()\n",
    "    std = data.std()\n",
    "    z = norm.ppf(1-alpha/2)\n",
    "    ci = (round(np.exp(mu-z*std), 4), round(np.exp(mu+z*std), 4))\n",
    "    return round(row_mean, 2), round(np.exp(mu), 2), ci\n",
    "    \n",
    "for cls_name in cfg.classes:\n",
    "    t_df = df[df.class_name == cls_name]\n",
    "    t_bbox_df = convert_to_bbox(t_df)\n",
    "    print(cls_name, ci_ratio(t_bbox_df, alpha=0.05)) "
   ]
  },
  {
   "cell_type": "code",
   "execution_count": null,
   "metadata": {},
   "outputs": [],
   "source": [
    "# ratio -> 전부 가로가 세로보다 길게 나타남.\n",
    "# 100개를 뽑았을 때 80개가 포함되는 범위로 ratio를 설정해보자.\n",
    "# -> (min, mean, max)\n",
    "# 일반쓰레기의 경우 너무 분산이 크다. 일반쓰레기의 ratio 분포를 그려보자."
   ]
  },
  {
   "cell_type": "code",
   "execution_count": 52,
   "metadata": {},
   "outputs": [
    {
     "data": {
      "text/html": [
       "<div>\n",
       "<style scoped>\n",
       "    .dataframe tbody tr th:only-of-type {\n",
       "        vertical-align: middle;\n",
       "    }\n",
       "\n",
       "    .dataframe tbody tr th {\n",
       "        vertical-align: top;\n",
       "    }\n",
       "\n",
       "    .dataframe thead th {\n",
       "        text-align: right;\n",
       "    }\n",
       "</style>\n",
       "<table border=\"1\" class=\"dataframe\">\n",
       "  <thead>\n",
       "    <tr style=\"text-align: right;\">\n",
       "      <th></th>\n",
       "      <th>image_id</th>\n",
       "      <th>image_name</th>\n",
       "      <th>class_name</th>\n",
       "      <th>class_id</th>\n",
       "      <th>x_min</th>\n",
       "      <th>y_min</th>\n",
       "      <th>x_max</th>\n",
       "      <th>y_max</th>\n",
       "    </tr>\n",
       "  </thead>\n",
       "  <tbody>\n",
       "    <tr>\n",
       "      <th>17738</th>\n",
       "      <td>3732</td>\n",
       "      <td>train/3722.jpg</td>\n",
       "      <td>General trash</td>\n",
       "      <td>0</td>\n",
       "      <td>300.0</td>\n",
       "      <td>653.0</td>\n",
       "      <td>791.0</td>\n",
       "      <td>671.0</td>\n",
       "    </tr>\n",
       "    <tr>\n",
       "      <th>17739</th>\n",
       "      <td>3732</td>\n",
       "      <td>train/3722.jpg</td>\n",
       "      <td>General trash</td>\n",
       "      <td>0</td>\n",
       "      <td>770.0</td>\n",
       "      <td>616.0</td>\n",
       "      <td>794.0</td>\n",
       "      <td>654.0</td>\n",
       "    </tr>\n",
       "    <tr>\n",
       "      <th>17741</th>\n",
       "      <td>3732</td>\n",
       "      <td>train/3722.jpg</td>\n",
       "      <td>General trash</td>\n",
       "      <td>0</td>\n",
       "      <td>300.0</td>\n",
       "      <td>602.0</td>\n",
       "      <td>797.0</td>\n",
       "      <td>620.0</td>\n",
       "    </tr>\n",
       "  </tbody>\n",
       "</table>\n",
       "</div>"
      ],
      "text/plain": [
       "       image_id      image_name     class_name  class_id  x_min  y_min  x_max  \\\n",
       "17738      3732  train/3722.jpg  General trash         0  300.0  653.0  791.0   \n",
       "17739      3732  train/3722.jpg  General trash         0  770.0  616.0  794.0   \n",
       "17741      3732  train/3722.jpg  General trash         0  300.0  602.0  797.0   \n",
       "\n",
       "       y_max  \n",
       "17738  671.0  \n",
       "17739  654.0  \n",
       "17741  620.0  "
      ]
     },
     "execution_count": 52,
     "metadata": {},
     "output_type": "execute_result"
    },
    {
     "data": {
      "image/png": "[encoded data removed]",
      "text/plain": [
       "<Figure size 1000x500 with 1 Axes>"
      ]
     },
     "metadata": {},
     "output_type": "display_data"
    }
   ],
   "source": [
    "t_df = df[df.class_name == 'General trash']\n",
    "t_bbox_df = convert_to_bbox(t_df)\n",
    "t_bbox_df.aspect_ratio.plot(kind='hist', figsize=(10, 5), logy=True)\n",
    "t_bbox_df.aspect_ratio.describe()\n",
    "t_bbox_df[t_bbox_df.aspect_ratio > 27]\n",
    "t_df[t_df.image_id == 3732]"
   ]
  }
 ],
 "metadata": {
  "kernelspec": {
   "display_name": ".vm",
   "language": "python",
   "name": "python3"
  },
  "language_info": {
   "codemirror_mode": {
    "name": "ipython",
    "version": 3
   },
   "file_extension": ".py",
   "mimetype": "text/x-python",
   "name": "python",
   "nbconvert_exporter": "python",
   "pygments_lexer": "ipython3",
   "version": "3.10.13"
  }
 },
 "nbformat": 4,
 "nbformat_minor": 2
}
