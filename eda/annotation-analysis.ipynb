{
 "cells": [
  {
   "cell_type": "code",
   "execution_count": null,
   "metadata": {},
   "outputs": [],
   "source": [
    "# Goal1 - class distribution visualization\n",
    "# Goal2 - how many bbox we need?\n",
    "# Goal3 - bbox's range visualization\n",
    "# Goal4 - bbox's correlation\n",
    "# Goal5 - statistics table\n",
    "\n",
    "# 좋은 Validation set이란?\n",
    "# • Validation set의 스코어가 올랐을 때, Public score가 올라감\n",
    "# • Validation set의 스코어가 올랐을 때, Private score가 올라감\n",
    "# • Public과 Private score가 모두 올라야 좋은 validation set\n",
    "# Validation 전략 – Stratified K fold\n",
    "# Data Augmentation – Mosaic3"
   ]
  },
  {
   "cell_type": "code",
   "execution_count": null,
   "metadata": {},
   "outputs": [],
   "source": []
  }
 ],
 "metadata": {
  "language_info": {
   "name": "python"
  }
 },
 "nbformat": 4,
 "nbformat_minor": 2
}
