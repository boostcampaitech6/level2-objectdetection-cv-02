{
 "cells": [
  {
   "cell_type": "code",
   "execution_count": 46,
   "metadata": {},
   "outputs": [],
   "source": [
    "# 성능 향상이 막혔다면 다시 EDA를 해라\n",
    "# 일반쓰레기, 철, 종이, 종이팩\n",
    "# => 하나에 대해 분석, 수정 후 학습해보고 성능이 향상되는가 확인하기"
   ]
  },
  {
   "cell_type": "code",
   "execution_count": 47,
   "metadata": {},
   "outputs": [],
   "source": [
    "from tools import *"
   ]
  },
  {
   "cell_type": "code",
   "execution_count": 64,
   "metadata": {},
   "outputs": [
    {
     "name": "stdout",
     "output_type": "stream",
     "text": [
      "loading annotations into memory...\n",
      "Done (t=0.08s)\n",
      "creating index...\n",
      "index created!\n"
     ]
    },
    {
     "data": {
      "text/html": [
       "<div>\n",
       "<style scoped>\n",
       "    .dataframe tbody tr th:only-of-type {\n",
       "        vertical-align: middle;\n",
       "    }\n",
       "\n",
       "    .dataframe tbody tr th {\n",
       "        vertical-align: top;\n",
       "    }\n",
       "\n",
       "    .dataframe thead th {\n",
       "        text-align: right;\n",
       "    }\n",
       "</style>\n",
       "<table border=\"1\" class=\"dataframe\">\n",
       "  <thead>\n",
       "    <tr style=\"text-align: right;\">\n",
       "      <th></th>\n",
       "      <th>image_id</th>\n",
       "      <th>image_name</th>\n",
       "      <th>class_name</th>\n",
       "      <th>class_id</th>\n",
       "      <th>x_min</th>\n",
       "      <th>y_min</th>\n",
       "      <th>x_max</th>\n",
       "      <th>y_max</th>\n",
       "    </tr>\n",
       "  </thead>\n",
       "  <tbody>\n",
       "    <tr>\n",
       "      <th>4809</th>\n",
       "      <td>1274</td>\n",
       "      <td>train/1274.jpg</td>\n",
       "      <td>General trash</td>\n",
       "      <td>0</td>\n",
       "      <td>348.0</td>\n",
       "      <td>419.0</td>\n",
       "      <td>699.0</td>\n",
       "      <td>746.0</td>\n",
       "    </tr>\n",
       "    <tr>\n",
       "      <th>8438</th>\n",
       "      <td>2252</td>\n",
       "      <td>train/2252.jpg</td>\n",
       "      <td>General trash</td>\n",
       "      <td>0</td>\n",
       "      <td>465.0</td>\n",
       "      <td>653.0</td>\n",
       "      <td>684.0</td>\n",
       "      <td>833.0</td>\n",
       "    </tr>\n",
       "    <tr>\n",
       "      <th>6279</th>\n",
       "      <td>1667</td>\n",
       "      <td>train/1667.jpg</td>\n",
       "      <td>General trash</td>\n",
       "      <td>0</td>\n",
       "      <td>335.0</td>\n",
       "      <td>286.0</td>\n",
       "      <td>716.0</td>\n",
       "      <td>838.0</td>\n",
       "    </tr>\n",
       "  </tbody>\n",
       "</table>\n",
       "</div>"
      ],
      "text/plain": [
       "      image_id      image_name     class_name  class_id  x_min  y_min  x_max  \\\n",
       "4809      1274  train/1274.jpg  General trash         0  348.0  419.0  699.0   \n",
       "8438      2252  train/2252.jpg  General trash         0  465.0  653.0  684.0   \n",
       "6279      1667  train/1667.jpg  General trash         0  335.0  286.0  716.0   \n",
       "\n",
       "      y_max  \n",
       "4809  746.0  \n",
       "8438  833.0  \n",
       "6279  838.0  "
      ]
     },
     "metadata": {},
     "output_type": "display_data"
    },
    {
     "data": {
      "text/plain": [
       "(None, (18281, 8), (3312, 8))"
      ]
     },
     "execution_count": 64,
     "metadata": {},
     "output_type": "execute_result"
    }
   ],
   "source": [
    "cfg = EasyDict(\n",
    "    target = 'General trash',\n",
    "    anno_path = '../../dataset/fold_1/stratified_train.json',\n",
    "    output_path = './output/statistics.txt',\n",
    "    classes = [\"General trash\", \"Paper\", \"Paper pack\", \"Metal\", \"Glass\", \n",
    "            \"Plastic\", \"Styrofoam\", \"Plastic bag\", \"Battery\", \"Clothing\"],\n",
    "    hist_width = 1000,\n",
    "    hist_height = 400\n",
    ")\n",
    "df,dct = load(cfg)\n",
    "t_df = df[df.class_name == cfg.target]\n",
    "sample(t_df, 3), df.shape, t_df.shape"
   ]
  },
  {
   "cell_type": "code",
   "execution_count": 65,
   "metadata": {},
   "outputs": [],
   "source": [
    "hist_ann_per_img(t_df, cfg)\n",
    "\n",
    "t_bbox_df = convert_to_bbox(t_df)\n",
    "box_bbox_area(t_bbox_df, cfg)\n",
    "box_aspect_ratio(t_bbox_df, cfg)\n",
    "\n",
    "cal_statisitcs(t_df, t_bbox_df, cfg, single=True)"
   ]
  },
  {
   "cell_type": "code",
   "execution_count": 66,
   "metadata": {},
   "outputs": [],
   "source": [
    "def filter(series, value, type='eq'):\n",
    "    if type == 'eq': return (series == value).values\n",
    "    if type == 'gt': return (series > value).values\n",
    "    if type == 'get': return (series >= value).values\n",
    "    if type == 'lt': return (series < value).values\n",
    "    if type == 'let': return (series <= value).values\n",
    "    if type == 'neq': return (series != value).values\n",
    "    if type == 'in': return (series.apply(lambda x: x in value)).values\n",
    "\n",
    "def apply_filter(df, filter):\n",
    "    return df[filter]\n",
    "\n",
    "count_upper_limit = 15\n",
    "t_count_df = t_df.groupby('image_id').count().reset_index()\n",
    "filter_count = filter(\n",
    "    t_df.image_id,\n",
    "    apply_filter(\n",
    "        t_count_df, \n",
    "        filter(\n",
    "            t_df.groupby('image_id').count().reset_index().iloc[:,1], \n",
    "            count_upper_limit, \n",
    "            'let')).image_id.values,\n",
    "    'in'\n",
    ")\n",
    "fixed_t_df = apply_filter(t_df, filter_count)\n",
    "fixed_t_bbox_df = apply_filter(t_bbox_df, filter_count)\n",
    "\n",
    "bbox_upper_limit = 333081 /1024/1024\n",
    "filter_area = filter(fixed_t_bbox_df.frac_bbox_area, bbox_upper_limit, 'let')\n",
    "fixed_t_df = apply_filter(fixed_t_df, filter_area)\n",
    "fixed_t_bbox_df = apply_filter(fixed_t_bbox_df, filter_area)\n",
    "\n",
    "bbox_upper_ratio = 2.82\n",
    "filter_ratio = filter(fixed_t_bbox_df.aspect_ratio, bbox_upper_ratio, 'let')\n",
    "fixed_t_df = apply_filter(fixed_t_df, filter_ratio)\n",
    "fixed_t_bbox_df = apply_filter(fixed_t_bbox_df, filter_ratio)"
   ]
  },
  {
   "cell_type": "code",
   "execution_count": 67,
   "metadata": {},
   "outputs": [],
   "source": [
    "hist_ann_per_img(fixed_t_df, cfg)\n",
    "\n",
    "box_bbox_area(fixed_t_bbox_df, cfg)\n",
    "box_aspect_ratio(fixed_t_bbox_df, cfg)\n",
    "\n",
    "cal_statisitcs(fixed_t_df, fixed_t_bbox_df, cfg, single=True)"
   ]
  },
  {
   "cell_type": "code",
   "execution_count": 72,
   "metadata": {},
   "outputs": [
    {
     "name": "stdout",
     "output_type": "stream",
     "text": [
      "dict_keys(['info', 'licenses', 'images', 'categories', 'annotations'])\n"
     ]
    },
    {
     "data": {
      "text/plain": [
       "(3706, '<==', 3908, 17438, '<==', 18281)"
      ]
     },
     "execution_count": 72,
     "metadata": {},
     "output_type": "execute_result"
    }
   ],
   "source": [
    "from copy import deepcopy\n",
    "\n",
    "fixed_dct = deepcopy(dct)\n",
    "print(fixed_dct.keys())\n",
    "\n",
    "fixed_dct['images'] = [\n",
    "    x for x in fixed_dct['images'] \n",
    "    if x['id'] not in t_df.image_id.values or x['file_name'] in fixed_t_df.image_name.values]\n",
    "fixed_dct['annotations'] = [\n",
    "    x for x in fixed_dct['annotations'] \n",
    "    if x['image_id'] not in t_df.image_id.values or  x['image_id'] in fixed_t_df.image_id.values]\n",
    "len(fixed_dct['images']),'<==',len(dct['images']), len(fixed_dct['annotations']),'<==',len(dct['annotations'])"
   ]
  },
  {
   "cell_type": "code",
   "execution_count": 70,
   "metadata": {},
   "outputs": [],
   "source": [
    "save_json('output/fixed_train.json', fixed_dct)"
   ]
  },
  {
   "cell_type": "code",
   "execution_count": null,
   "metadata": {},
   "outputs": [],
   "source": []
  }
 ],
 "metadata": {
  "kernelspec": {
   "display_name": ".vm",
   "language": "python",
   "name": "python3"
  },
  "language_info": {
   "codemirror_mode": {
    "name": "ipython",
    "version": 3
   },
   "file_extension": ".py",
   "mimetype": "text/x-python",
   "name": "python",
   "nbconvert_exporter": "python",
   "pygments_lexer": "ipython3",
   "version": "3.10.13"
  }
 },
 "nbformat": 4,
 "nbformat_minor": 2
}
